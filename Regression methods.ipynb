{
 "cells": [
  {
   "cell_type": "markdown",
   "id": "96f4661f",
   "metadata": {},
   "source": [
    "# Linear Regression"
   ]
  },
  {
   "cell_type": "code",
   "execution_count": 73,
   "id": "36467ed7",
   "metadata": {},
   "outputs": [],
   "source": [
    "import pandas as pd"
   ]
  },
  {
   "cell_type": "code",
   "execution_count": 74,
   "id": "9df23bc6",
   "metadata": {},
   "outputs": [],
   "source": [
    "#Importing the CSV\n",
    "winequality_red=pd.read_csv(\"/Users/sumanthmeela/Desktop/Course/Machine Learning/datasets/winequality-red.csv\")"
   ]
  },
  {
   "cell_type": "code",
   "execution_count": 75,
   "id": "f8a39204",
   "metadata": {},
   "outputs": [
    {
     "data": {
      "text/html": [
       "<div>\n",
       "<style scoped>\n",
       "    .dataframe tbody tr th:only-of-type {\n",
       "        vertical-align: middle;\n",
       "    }\n",
       "\n",
       "    .dataframe tbody tr th {\n",
       "        vertical-align: top;\n",
       "    }\n",
       "\n",
       "    .dataframe thead th {\n",
       "        text-align: right;\n",
       "    }\n",
       "</style>\n",
       "<table border=\"1\" class=\"dataframe\">\n",
       "  <thead>\n",
       "    <tr style=\"text-align: right;\">\n",
       "      <th></th>\n",
       "      <th>fixed acidity</th>\n",
       "      <th>volatile acidity</th>\n",
       "      <th>citric acid</th>\n",
       "      <th>residual sugar</th>\n",
       "      <th>chlorides</th>\n",
       "      <th>free sulfur dioxide</th>\n",
       "      <th>total sulfur dioxide</th>\n",
       "      <th>density</th>\n",
       "      <th>pH</th>\n",
       "      <th>sulphates</th>\n",
       "      <th>alcohol</th>\n",
       "      <th>quality</th>\n",
       "    </tr>\n",
       "  </thead>\n",
       "  <tbody>\n",
       "    <tr>\n",
       "      <th>0</th>\n",
       "      <td>7.4</td>\n",
       "      <td>0.70</td>\n",
       "      <td>0.00</td>\n",
       "      <td>1.9</td>\n",
       "      <td>0.076</td>\n",
       "      <td>11.0</td>\n",
       "      <td>34.0</td>\n",
       "      <td>0.9978</td>\n",
       "      <td>3.51</td>\n",
       "      <td>0.56</td>\n",
       "      <td>9.4</td>\n",
       "      <td>5</td>\n",
       "    </tr>\n",
       "    <tr>\n",
       "      <th>1</th>\n",
       "      <td>7.8</td>\n",
       "      <td>0.88</td>\n",
       "      <td>0.00</td>\n",
       "      <td>2.6</td>\n",
       "      <td>0.098</td>\n",
       "      <td>25.0</td>\n",
       "      <td>67.0</td>\n",
       "      <td>0.9968</td>\n",
       "      <td>3.20</td>\n",
       "      <td>0.68</td>\n",
       "      <td>9.8</td>\n",
       "      <td>5</td>\n",
       "    </tr>\n",
       "    <tr>\n",
       "      <th>2</th>\n",
       "      <td>7.8</td>\n",
       "      <td>0.76</td>\n",
       "      <td>0.04</td>\n",
       "      <td>2.3</td>\n",
       "      <td>0.092</td>\n",
       "      <td>15.0</td>\n",
       "      <td>54.0</td>\n",
       "      <td>0.9970</td>\n",
       "      <td>3.26</td>\n",
       "      <td>0.65</td>\n",
       "      <td>9.8</td>\n",
       "      <td>5</td>\n",
       "    </tr>\n",
       "    <tr>\n",
       "      <th>3</th>\n",
       "      <td>11.2</td>\n",
       "      <td>0.28</td>\n",
       "      <td>0.56</td>\n",
       "      <td>1.9</td>\n",
       "      <td>0.075</td>\n",
       "      <td>17.0</td>\n",
       "      <td>60.0</td>\n",
       "      <td>0.9980</td>\n",
       "      <td>3.16</td>\n",
       "      <td>0.58</td>\n",
       "      <td>9.8</td>\n",
       "      <td>6</td>\n",
       "    </tr>\n",
       "    <tr>\n",
       "      <th>4</th>\n",
       "      <td>7.4</td>\n",
       "      <td>0.70</td>\n",
       "      <td>0.00</td>\n",
       "      <td>1.9</td>\n",
       "      <td>0.076</td>\n",
       "      <td>11.0</td>\n",
       "      <td>34.0</td>\n",
       "      <td>0.9978</td>\n",
       "      <td>3.51</td>\n",
       "      <td>0.56</td>\n",
       "      <td>9.4</td>\n",
       "      <td>5</td>\n",
       "    </tr>\n",
       "  </tbody>\n",
       "</table>\n",
       "</div>"
      ],
      "text/plain": [
       "   fixed acidity  volatile acidity  citric acid  residual sugar  chlorides  \\\n",
       "0            7.4              0.70         0.00             1.9      0.076   \n",
       "1            7.8              0.88         0.00             2.6      0.098   \n",
       "2            7.8              0.76         0.04             2.3      0.092   \n",
       "3           11.2              0.28         0.56             1.9      0.075   \n",
       "4            7.4              0.70         0.00             1.9      0.076   \n",
       "\n",
       "   free sulfur dioxide  total sulfur dioxide  density    pH  sulphates  \\\n",
       "0                 11.0                  34.0   0.9978  3.51       0.56   \n",
       "1                 25.0                  67.0   0.9968  3.20       0.68   \n",
       "2                 15.0                  54.0   0.9970  3.26       0.65   \n",
       "3                 17.0                  60.0   0.9980  3.16       0.58   \n",
       "4                 11.0                  34.0   0.9978  3.51       0.56   \n",
       "\n",
       "   alcohol  quality  \n",
       "0      9.4        5  \n",
       "1      9.8        5  \n",
       "2      9.8        5  \n",
       "3      9.8        6  \n",
       "4      9.4        5  "
      ]
     },
     "execution_count": 75,
     "metadata": {},
     "output_type": "execute_result"
    }
   ],
   "source": [
    "winequality_red.head()"
   ]
  },
  {
   "cell_type": "code",
   "execution_count": 76,
   "id": "6f364a87",
   "metadata": {},
   "outputs": [
    {
     "name": "stdout",
     "output_type": "stream",
     "text": [
      "fixed acidity           0\n",
      "volatile acidity        0\n",
      "citric acid             0\n",
      "residual sugar          0\n",
      "chlorides               0\n",
      "free sulfur dioxide     0\n",
      "total sulfur dioxide    0\n",
      "density                 0\n",
      "pH                      0\n",
      "sulphates               0\n",
      "alcohol                 0\n",
      "quality                 0\n",
      "dtype: int64\n"
     ]
    }
   ],
   "source": [
    "print(winequality_red.isnull().sum())\n",
    "#No null values, so no need to omit any row"
   ]
  },
  {
   "cell_type": "code",
   "execution_count": 77,
   "id": "53c59cae",
   "metadata": {},
   "outputs": [
    {
     "name": "stdout",
     "output_type": "stream",
     "text": [
      "[[3.51]\n",
      " [3.2 ]\n",
      " [3.26]\n",
      " ...\n",
      " [3.42]\n",
      " [3.57]\n",
      " [3.39]]\n"
     ]
    }
   ],
   "source": [
    "#Output features includes pH\n",
    "#Input features includes all the columns except pH\n",
    "#Build a matrix for X and Y\n",
    "import numpy as np\n",
    "X=np.matrix(winequality_red.drop(\"pH\",axis=1).values)\n",
    "Y=np.matrix(winequality_red[\"pH\"].values).T\n",
    "print(Y)"
   ]
  },
  {
   "cell_type": "code",
   "execution_count": 81,
   "id": "d7aee383",
   "metadata": {},
   "outputs": [],
   "source": [
    "#To randomize the order\n",
    "np.random.seed(123)\n",
    "#Total no of rows\n",
    "Tot_samples=X.shape[0]\n",
    "#Splitting train data by X 0.8 over total samples\n",
    "Train_samples=int(0.8*Tot_samples)\n",
    "Test_samples=Tot_samples-Train_samples\n",
    "#Giving index to the total_samples \n",
    "index = np.arange(Tot_samples)\n",
    "#Shuffling the index\n",
    "np.random.shuffle(index)\n",
    "#Selecting first number of train rows from randmo shuffling\n",
    "Train_rows=index[:Train_samples]\n",
    "#Selecting the last rows after total number of train rows\n",
    "Test_rows=index[Train_samples:]\n",
    "\n",
    "X_train = X[Train_rows]\n",
    "Y_train = Y[Train_rows]\n",
    "X_test = X[Test_rows]\n",
    "Y_test = Y[Test_rows]"
   ]
  },
  {
   "cell_type": "code",
   "execution_count": 125,
   "id": "621bbd4b",
   "metadata": {},
   "outputs": [
    {
     "name": "stdout",
     "output_type": "stream",
     "text": [
      "X_train shape: (1279, 11)\n",
      "y_train shape: (1279, 1)\n",
      "X_test shape: (320, 11)\n",
      "y_test shape: (320, 1)\n"
     ]
    }
   ],
   "source": [
    "print(\"X_train shape:\", X_train.shape)\n",
    "print(\"y_train shape:\", Y_train.shape)\n",
    "print(\"X_test shape:\", X_test.shape)\n",
    "print(\"y_test shape:\", Y_test.shape)"
   ]
  },
  {
   "cell_type": "code",
   "execution_count": 99,
   "id": "5c852898",
   "metadata": {},
   "outputs": [
    {
     "name": "stdout",
     "output_type": "stream",
     "text": [
      "[[3.51]\n",
      " [3.2 ]\n",
      " [3.26]\n",
      " ...\n",
      " [3.42]\n",
      " [3.57]\n",
      " [3.39]]\n"
     ]
    }
   ],
   "source": [
    "#Finding weights by the equation w = (XT X)−1 XT y\n",
    "w=np.linalg.inv(X_train.T*X_train)*X_train.T*Y_train"
   ]
  },
  {
   "cell_type": "code",
   "execution_count": 114,
   "id": "260f185d",
   "metadata": {},
   "outputs": [
    {
     "name": "stdout",
     "output_type": "stream",
     "text": [
      "13.366417900827303\n"
     ]
    }
   ],
   "source": [
    "#Finding Y train from the weights given\n",
    "Y_train_predicted=X_train*w\n",
    "#Residuals from the actual value\n",
    "Y_train_residuals=Y_train-Y_train_predicted\n",
    "#Squaring the residuals\n",
    "MSE_train_squares=np.square(Y_train_residuals)\n",
    "#Summing up the residuals\n",
    "MSE_train=np.sum(MSE_train_squares)\n",
    "print(MSE_train)"
   ]
  },
  {
   "cell_type": "code",
   "execution_count": 115,
   "id": "76921552",
   "metadata": {},
   "outputs": [
    {
     "name": "stdout",
     "output_type": "stream",
     "text": [
      "2.9610017475332753\n"
     ]
    }
   ],
   "source": [
    "#Finding Y test from the weights given\n",
    "Y_test_predicted=X_test*w\n",
    "#Residuals from the actual value\n",
    "Y_test_residuals=Y_test-Y_test_predicted\n",
    "#Squaring the residuals\n",
    "MSE_test_squares=np.square(Y_test_residuals)\n",
    "#Summing up the residuals\n",
    "MSE_test=np.sum(MSE_test_squares)\n",
    "print(MSE_test)"
   ]
  },
  {
   "cell_type": "code",
   "execution_count": 176,
   "id": "5d0b5ca3",
   "metadata": {},
   "outputs": [],
   "source": [
    "del penguins"
   ]
  },
  {
   "cell_type": "markdown",
   "id": "6ed2f0dc",
   "metadata": {},
   "source": [
    "# Logisitic Regression"
   ]
  },
  {
   "cell_type": "code",
   "execution_count": 177,
   "id": "eb555345",
   "metadata": {},
   "outputs": [
    {
     "name": "stdout",
     "output_type": "stream",
     "text": [
      "  species     island  bill_length_mm  bill_depth_mm  flipper_length_mm  \\\n",
      "0  Adelie  Torgersen            39.1           18.7              181.0   \n",
      "1  Adelie  Torgersen            39.5           17.4              186.0   \n",
      "2  Adelie  Torgersen            40.3           18.0              195.0   \n",
      "3  Adelie  Torgersen             NaN            NaN                NaN   \n",
      "4  Adelie  Torgersen            36.7           19.3              193.0   \n",
      "\n",
      "   body_mass_g     sex  \n",
      "0       3750.0    male  \n",
      "1       3800.0  female  \n",
      "2       3250.0  female  \n",
      "3          NaN     NaN  \n",
      "4       3450.0  female  \n"
     ]
    }
   ],
   "source": [
    "#Importing the CSV\n",
    "penguins=pd.read_csv(\"/Users/sumanthmeela/Desktop/Course/Machine Learning/datasets/penguins.csv\")\n",
    "print(penguins.head())"
   ]
  },
  {
   "cell_type": "code",
   "execution_count": 178,
   "id": "7d15038b",
   "metadata": {},
   "outputs": [
    {
     "name": "stdout",
     "output_type": "stream",
     "text": [
      "species               0\n",
      "island                0\n",
      "bill_length_mm        2\n",
      "bill_depth_mm         2\n",
      "flipper_length_mm     2\n",
      "body_mass_g           2\n",
      "sex                  11\n",
      "dtype: int64\n"
     ]
    },
    {
     "data": {
      "text/html": [
       "<div>\n",
       "<style scoped>\n",
       "    .dataframe tbody tr th:only-of-type {\n",
       "        vertical-align: middle;\n",
       "    }\n",
       "\n",
       "    .dataframe tbody tr th {\n",
       "        vertical-align: top;\n",
       "    }\n",
       "\n",
       "    .dataframe thead th {\n",
       "        text-align: right;\n",
       "    }\n",
       "</style>\n",
       "<table border=\"1\" class=\"dataframe\">\n",
       "  <thead>\n",
       "    <tr style=\"text-align: right;\">\n",
       "      <th></th>\n",
       "      <th>species</th>\n",
       "      <th>island</th>\n",
       "      <th>bill_length_mm</th>\n",
       "      <th>bill_depth_mm</th>\n",
       "      <th>flipper_length_mm</th>\n",
       "      <th>body_mass_g</th>\n",
       "      <th>sex</th>\n",
       "    </tr>\n",
       "  </thead>\n",
       "  <tbody>\n",
       "    <tr>\n",
       "      <th>0</th>\n",
       "      <td>Adelie</td>\n",
       "      <td>Torgersen</td>\n",
       "      <td>39.1</td>\n",
       "      <td>18.7</td>\n",
       "      <td>181.0</td>\n",
       "      <td>3750.0</td>\n",
       "      <td>male</td>\n",
       "    </tr>\n",
       "    <tr>\n",
       "      <th>1</th>\n",
       "      <td>Adelie</td>\n",
       "      <td>Torgersen</td>\n",
       "      <td>39.5</td>\n",
       "      <td>17.4</td>\n",
       "      <td>186.0</td>\n",
       "      <td>3800.0</td>\n",
       "      <td>female</td>\n",
       "    </tr>\n",
       "    <tr>\n",
       "      <th>2</th>\n",
       "      <td>Adelie</td>\n",
       "      <td>Torgersen</td>\n",
       "      <td>40.3</td>\n",
       "      <td>18.0</td>\n",
       "      <td>195.0</td>\n",
       "      <td>3250.0</td>\n",
       "      <td>female</td>\n",
       "    </tr>\n",
       "    <tr>\n",
       "      <th>4</th>\n",
       "      <td>Adelie</td>\n",
       "      <td>Torgersen</td>\n",
       "      <td>36.7</td>\n",
       "      <td>19.3</td>\n",
       "      <td>193.0</td>\n",
       "      <td>3450.0</td>\n",
       "      <td>female</td>\n",
       "    </tr>\n",
       "    <tr>\n",
       "      <th>5</th>\n",
       "      <td>Adelie</td>\n",
       "      <td>Torgersen</td>\n",
       "      <td>39.3</td>\n",
       "      <td>20.6</td>\n",
       "      <td>190.0</td>\n",
       "      <td>3650.0</td>\n",
       "      <td>male</td>\n",
       "    </tr>\n",
       "  </tbody>\n",
       "</table>\n",
       "</div>"
      ],
      "text/plain": [
       "  species     island  bill_length_mm  bill_depth_mm  flipper_length_mm  \\\n",
       "0  Adelie  Torgersen            39.1           18.7              181.0   \n",
       "1  Adelie  Torgersen            39.5           17.4              186.0   \n",
       "2  Adelie  Torgersen            40.3           18.0              195.0   \n",
       "4  Adelie  Torgersen            36.7           19.3              193.0   \n",
       "5  Adelie  Torgersen            39.3           20.6              190.0   \n",
       "\n",
       "   body_mass_g     sex  \n",
       "0       3750.0    male  \n",
       "1       3800.0  female  \n",
       "2       3250.0  female  \n",
       "4       3450.0  female  \n",
       "5       3650.0    male  "
      ]
     },
     "execution_count": 178,
     "metadata": {},
     "output_type": "execute_result"
    }
   ],
   "source": [
    "print(penguins.isnull().sum())\n",
    "penguins=penguins.dropna()\n",
    "penguins.head()"
   ]
  },
  {
   "cell_type": "code",
   "execution_count": 180,
   "id": "76fd40ec",
   "metadata": {},
   "outputs": [
    {
     "name": "stdout",
     "output_type": "stream",
     "text": [
      "       bill_length_mm  bill_depth_mm  flipper_length_mm  body_mass_g\n",
      "count      333.000000     333.000000         333.000000   333.000000\n",
      "mean        43.992793      17.164865         200.966967  4207.057057\n",
      "std          5.468668       1.969235          14.015765   805.215802\n",
      "min         32.100000      13.100000         172.000000  2700.000000\n",
      "25%         39.500000      15.600000         190.000000  3550.000000\n",
      "50%         44.500000      17.300000         197.000000  4050.000000\n",
      "75%         48.600000      18.700000         213.000000  4775.000000\n",
      "max         59.600000      21.500000         231.000000  6300.000000\n"
     ]
    }
   ],
   "source": [
    "#Stats\n",
    "summary=penguins.describe()\n",
    "print(summary)"
   ]
  },
  {
   "cell_type": "code",
   "execution_count": 181,
   "id": "8ba09c07",
   "metadata": {},
   "outputs": [
    {
     "name": "stdout",
     "output_type": "stream",
     "text": [
      "species              category\n",
      "island               category\n",
      "bill_length_mm        float64\n",
      "bill_depth_mm         float64\n",
      "flipper_length_mm     float64\n",
      "body_mass_g           float64\n",
      "sex                  category\n",
      "dtype: object\n"
     ]
    }
   ],
   "source": [
    "penguins['species'] = penguins['species'].astype('category')\n",
    "penguins['island'] = penguins['island'].astype('category')\n",
    "penguins['sex'] = penguins['sex'].astype('category')\n",
    "print(penguins.dtypes)"
   ]
  },
  {
   "cell_type": "code",
   "execution_count": 182,
   "id": "a8ad8908",
   "metadata": {},
   "outputs": [],
   "source": [
    "normalize_columns = ['bill_length_mm', 'bill_depth_mm', 'flipper_length_mm', 'body_mass_g']\n",
    "minimum_values=penguins[normalize_columns].min()\n",
    "maximum_values=penguins[normalize_columns].max()\n",
    "normalized_penguins = (\n",
    "    (penguins[normalize_columns] - penguins[normalize_columns].min()) /\n",
    "    (penguins[normalize_columns].max() - penguins[normalize_columns].min())\n",
    ")\n"
   ]
  },
  {
   "cell_type": "code",
   "execution_count": 183,
   "id": "6a5c8c82",
   "metadata": {},
   "outputs": [
    {
     "data": {
      "text/html": [
       "<div>\n",
       "<style scoped>\n",
       "    .dataframe tbody tr th:only-of-type {\n",
       "        vertical-align: middle;\n",
       "    }\n",
       "\n",
       "    .dataframe tbody tr th {\n",
       "        vertical-align: top;\n",
       "    }\n",
       "\n",
       "    .dataframe thead th {\n",
       "        text-align: right;\n",
       "    }\n",
       "</style>\n",
       "<table border=\"1\" class=\"dataframe\">\n",
       "  <thead>\n",
       "    <tr style=\"text-align: right;\">\n",
       "      <th></th>\n",
       "      <th>bill_length_mm</th>\n",
       "      <th>bill_depth_mm</th>\n",
       "      <th>flipper_length_mm</th>\n",
       "      <th>body_mass_g</th>\n",
       "    </tr>\n",
       "  </thead>\n",
       "  <tbody>\n",
       "    <tr>\n",
       "      <th>0</th>\n",
       "      <td>0.254545</td>\n",
       "      <td>0.666667</td>\n",
       "      <td>0.152542</td>\n",
       "      <td>0.291667</td>\n",
       "    </tr>\n",
       "    <tr>\n",
       "      <th>1</th>\n",
       "      <td>0.269091</td>\n",
       "      <td>0.511905</td>\n",
       "      <td>0.237288</td>\n",
       "      <td>0.305556</td>\n",
       "    </tr>\n",
       "    <tr>\n",
       "      <th>2</th>\n",
       "      <td>0.298182</td>\n",
       "      <td>0.583333</td>\n",
       "      <td>0.389831</td>\n",
       "      <td>0.152778</td>\n",
       "    </tr>\n",
       "    <tr>\n",
       "      <th>4</th>\n",
       "      <td>0.167273</td>\n",
       "      <td>0.738095</td>\n",
       "      <td>0.355932</td>\n",
       "      <td>0.208333</td>\n",
       "    </tr>\n",
       "    <tr>\n",
       "      <th>5</th>\n",
       "      <td>0.261818</td>\n",
       "      <td>0.892857</td>\n",
       "      <td>0.305085</td>\n",
       "      <td>0.263889</td>\n",
       "    </tr>\n",
       "  </tbody>\n",
       "</table>\n",
       "</div>"
      ],
      "text/plain": [
       "   bill_length_mm  bill_depth_mm  flipper_length_mm  body_mass_g\n",
       "0        0.254545       0.666667           0.152542     0.291667\n",
       "1        0.269091       0.511905           0.237288     0.305556\n",
       "2        0.298182       0.583333           0.389831     0.152778\n",
       "4        0.167273       0.738095           0.355932     0.208333\n",
       "5        0.261818       0.892857           0.305085     0.263889"
      ]
     },
     "execution_count": 183,
     "metadata": {},
     "output_type": "execute_result"
    }
   ],
   "source": [
    "normalized_penguins.head()"
   ]
  },
  {
   "cell_type": "code",
   "execution_count": 192,
   "id": "fce27a66",
   "metadata": {},
   "outputs": [
    {
     "name": "stdout",
     "output_type": "stream",
     "text": [
      "(333, 6)\n",
      "(333, 1)\n"
     ]
    }
   ],
   "source": [
    "X2=np.matrix(penguins.drop(\"sex\",axis=1).values)\n",
    "Y2=np.matrix(penguins[\"sex\"].values).T\n",
    "print(X2.shape)\n",
    "print(Y2.shape)"
   ]
  },
  {
   "cell_type": "code",
   "execution_count": 193,
   "id": "d1366c05",
   "metadata": {},
   "outputs": [],
   "source": [
    "#To randomize the order\n",
    "np.random.seed(123)\n",
    "#Total no of rows\n",
    "Tot_samples2=X2.shape[0]\n",
    "#Splitting train data by X 0.8 over total samples\n",
    "Train_samples2=int(0.8*Tot_samples2)\n",
    "Test_samples2=Tot_samples2-Train_samples2\n",
    "#Giving index to the total_samples \n",
    "index2 = np.arange(Tot_samples2)\n",
    "#Shuffling the index\n",
    "np.random.shuffle(index2)\n",
    "#Selecting first number of train rows from randmo shuffling\n",
    "Train_rows2=index2[:Train_samples2]\n",
    "#Selecting the last rows after total number of train rows\n",
    "Test_rows2=index2[Train_samples2:]\n",
    "\n",
    "X_train2 = X[Train_rows2]\n",
    "Y_train2 = Y[Train_rows2]\n",
    "X_test2 = X[Test_rows2]\n",
    "Y_test2 = Y[Test_rows2]"
   ]
  },
  {
   "cell_type": "code",
   "execution_count": 194,
   "id": "76514831",
   "metadata": {},
   "outputs": [
    {
     "name": "stdout",
     "output_type": "stream",
     "text": [
      "X_train2 shape: (266, 11)\n",
      "y_train2 shape: (266, 1)\n",
      "X_test2 shape: (67, 11)\n",
      "y_test2 shape: (67, 1)\n"
     ]
    }
   ],
   "source": [
    "print(\"X_train2 shape:\", X_train2.shape)\n",
    "print(\"y_train2 shape:\", Y_train2.shape)\n",
    "print(\"X_test2 shape:\", X_test2.shape)\n",
    "print(\"y_test2 shape:\", Y_test2.shape)"
   ]
  },
  {
   "cell_type": "code",
   "execution_count": 199,
   "id": "d9b49ccd",
   "metadata": {},
   "outputs": [
    {
     "ename": "NameError",
     "evalue": "name 'self' is not defined",
     "output_type": "error",
     "traceback": [
      "\u001b[0;31m---------------------------------------------------------------------------\u001b[0m",
      "\u001b[0;31mNameError\u001b[0m                                 Traceback (most recent call last)",
      "Cell \u001b[0;32mIn[199], line 1\u001b[0m\n\u001b[0;32m----> 1\u001b[0m \u001b[38;5;28;01mclass\u001b[39;00m \u001b[38;5;21;01mLogisticRegression\u001b[39;00m():\n\u001b[1;32m      2\u001b[0m     \u001b[38;5;28;01mdef\u001b[39;00m \u001b[38;5;21m__init__\u001b[39m(\u001b[38;5;28mself\u001b[39m, learning_rate\u001b[38;5;241m=\u001b[39m\u001b[38;5;241m0.000001\u001b[39m, iterations\u001b[38;5;241m=\u001b[39m\u001b[38;5;241m100000\u001b[39m):\n\u001b[1;32m      3\u001b[0m         \u001b[38;5;28mself\u001b[39m\u001b[38;5;241m.\u001b[39mlearning_rate \u001b[38;5;241m=\u001b[39m learning_rate\n",
      "Cell \u001b[0;32mIn[199], line 12\u001b[0m, in \u001b[0;36mLogisticRegression\u001b[0;34m()\u001b[0m\n\u001b[1;32m      9\u001b[0m     \u001b[38;5;28mself\u001b[39m\u001b[38;5;241m.\u001b[39mweights \u001b[38;5;241m=\u001b[39m np\u001b[38;5;241m.\u001b[39mzeros(X_train2\u001b[38;5;241m.\u001b[39mshape[\u001b[38;5;241m1\u001b[39m])\n\u001b[1;32m     10\u001b[0m     \u001b[38;5;28mself\u001b[39m\u001b[38;5;241m.\u001b[39mbias \u001b[38;5;241m=\u001b[39m \u001b[38;5;241m0\u001b[39m\n\u001b[0;32m---> 12\u001b[0m \u001b[38;5;28;01mfor\u001b[39;00m p \u001b[38;5;129;01min\u001b[39;00m \u001b[38;5;28mrange\u001b[39m(\u001b[38;5;28mself\u001b[39m\u001b[38;5;241m.\u001b[39miterations):\n\u001b[1;32m     13\u001b[0m     \u001b[38;5;28mself\u001b[39m\u001b[38;5;241m.\u001b[39mgradient_descent(X_train2,Y_train2)\n\u001b[1;32m     15\u001b[0m \u001b[38;5;28;01mdef\u001b[39;00m \u001b[38;5;21msigmoid\u001b[39m(\u001b[38;5;28mself\u001b[39m, z):\n\u001b[1;32m     16\u001b[0m     \u001b[38;5;66;03m# Define the sigmoid function\u001b[39;00m\n",
      "\u001b[0;31mNameError\u001b[0m: name 'self' is not defined"
     ]
    }
   ],
   "source": [
    "class LogisticRegression():\n",
    "    def __init__(self, learning_rate=0.000001, iterations=100000):\n",
    "        self.learning_rate = learning_rate\n",
    "        self.iterations = iterations\n",
    "        self.weights=None\n",
    "        self.bias=None\n",
    "    \n",
    "    def fit(self,X_train2,Y_train2):\n",
    "        self.weights = np.zeros(X_train2.shape[1])\n",
    "        self.bias = 0\n",
    "     \n",
    "    for p in range(self.iterations):\n",
    "        self.gradient_descent(X_train2,Y_train2)\n",
    "    \n",
    "    def sigmoid(self, z):\n",
    "        # Define the sigmoid function\n",
    "        return 1 / (1 + np.exp(-z))\n",
    "    \n",
    "    def cost(self, Y_train2, Y_train2_pred):\n",
    "        # Implement the logistic regression cost function\n",
    "        return -np.mean(Y_train2 * np.log(Y_train2_pred) + (1 - Y_train2) * np.log(1 - Y_train2_pred))\n",
    "    \n",
    "    def gradient_descent(self, X_train2, Y_train2):\n",
    "        # Implement gradient descent to update weights and bias\n",
    "        a = X_train2.shape[0]\n",
    "        b = np.dot(X_train2, self.weights) + self.bias\n",
    "        y_pred = self.sigmoid(z)\n",
    "\n",
    "        dw = (1 / a) * np.dot(X_train2.T, (Y_train2_pred - Y_train2))\n",
    "        db = (1 / a) * np.sum(Y_train2_pred - Y_train2)\n",
    "\n",
    "        self.weights -= self.learning_rate * dw\n",
    "        self.bias -= self.learning_rate * db\n",
    "    \n",
    "    def predict(self, X_train2):\n",
    "        # Make binary predictions\n",
    "        z = np.dot(X_train2, self.weights) + self.bias\n",
    "        Y_train2_pred = self_logid.sigmoid(z)\n",
    "        return (Y_train2_pred >= 0.5).astype(int)\n",
    "    "
   ]
  },
  {
   "cell_type": "code",
   "execution_count": 203,
   "id": "03b7c25e",
   "metadata": {},
   "outputs": [
    {
     "ename": "NameError",
     "evalue": "name 'self' is not defined",
     "output_type": "error",
     "traceback": [
      "\u001b[0;31m---------------------------------------------------------------------------\u001b[0m",
      "\u001b[0;31mNameError\u001b[0m                                 Traceback (most recent call last)",
      "Cell \u001b[0;32mIn[203], line 3\u001b[0m\n\u001b[1;32m      1\u001b[0m \u001b[38;5;28;01mimport\u001b[39;00m \u001b[38;5;21;01mnumpy\u001b[39;00m \u001b[38;5;28;01mas\u001b[39;00m \u001b[38;5;21;01mnp\u001b[39;00m\n\u001b[0;32m----> 3\u001b[0m \u001b[38;5;28;01mclass\u001b[39;00m \u001b[38;5;21;01mLogisticRegression\u001b[39;00m:\n\u001b[1;32m      4\u001b[0m     \u001b[38;5;28;01mdef\u001b[39;00m \u001b[38;5;21m__init__\u001b[39m(\u001b[38;5;28mself\u001b[39m, learning_rate\u001b[38;5;241m=\u001b[39m\u001b[38;5;241m0.01\u001b[39m, iterations\u001b[38;5;241m=\u001b[39m\u001b[38;5;241m1000\u001b[39m):\n\u001b[1;32m      5\u001b[0m         \u001b[38;5;28mself\u001b[39m\u001b[38;5;241m.\u001b[39mlearning_rate \u001b[38;5;241m=\u001b[39m learning_rate\n",
      "Cell \u001b[0;32mIn[203], line 14\u001b[0m, in \u001b[0;36mLogisticRegression\u001b[0;34m()\u001b[0m\n\u001b[1;32m     11\u001b[0m     \u001b[38;5;28mself\u001b[39m\u001b[38;5;241m.\u001b[39mweights \u001b[38;5;241m=\u001b[39m np\u001b[38;5;241m.\u001b[39mzeros(X_train2\u001b[38;5;241m.\u001b[39mshape[\u001b[38;5;241m1\u001b[39m])\n\u001b[1;32m     12\u001b[0m     \u001b[38;5;28mself\u001b[39m\u001b[38;5;241m.\u001b[39mbias \u001b[38;5;241m=\u001b[39m \u001b[38;5;241m0\u001b[39m\n\u001b[0;32m---> 14\u001b[0m \u001b[38;5;28;01mfor\u001b[39;00m p \u001b[38;5;129;01min\u001b[39;00m \u001b[38;5;28mrange\u001b[39m(\u001b[38;5;28mself\u001b[39m\u001b[38;5;241m.\u001b[39miterations):\n\u001b[1;32m     15\u001b[0m     \u001b[38;5;28mself\u001b[39m\u001b[38;5;241m.\u001b[39mgradient_descent(X_train2,Y_train2)\n\u001b[1;32m     17\u001b[0m \u001b[38;5;28;01mdef\u001b[39;00m \u001b[38;5;21msigmoid\u001b[39m(\u001b[38;5;28mself\u001b[39m, z):\n\u001b[1;32m     18\u001b[0m     \u001b[38;5;66;03m# Define the sigmoid function\u001b[39;00m\n",
      "\u001b[0;31mNameError\u001b[0m: name 'self' is not defined"
     ]
    }
   ],
   "source": [
    "import numpy as np\n",
    "\n",
    "class LogisticRegression:\n",
    "    def __init__(self, learning_rate=0.01, iterations=1000):\n",
    "        self.learning_rate = learning_rate\n",
    "        self.iterations = iterations\n",
    "        self.weights = None\n",
    "        self.bias = None\n",
    "\n",
    "    def fit(self,X_train2,Y_train2):\n",
    "        self.weights = np.zeros(X_train2.shape[1])\n",
    "        self.bias = 0\n",
    "     \n",
    "    for p in range(self.iterations):\n",
    "        self.gradient_descent(X_train2,Y_train2)\n",
    "    \n",
    "    def sigmoid(self, z):\n",
    "        # Define the sigmoid function\n",
    "        return 1 / (1 + np.exp(-z))\n",
    "    \n",
    "    def cost(self, Y_train2, Y_train2_pred):\n",
    "        # Implement the logistic regression cost function\n",
    "        return -np.mean(Y_train2 * np.log(Y_train2_pred) + (1 - Y_train2) * np.log(1 - Y_train2_pred))\n",
    "    \n",
    "    def gradient_descent(self, X_train2, Y_train2):\n",
    "        # Implement gradient descent to update weights and bias\n",
    "        a = X_train2.shape[0]\n",
    "        b = np.dot(X_train2, self.weights) + self.bias\n",
    "        y_pred = self.sigmoid(z)\n",
    "\n",
    "        dw = (1 / a) * np.dot(X_train2.T, (Y_train2_pred - Y_train2))\n",
    "        db = (1 / a) * np.sum(Y_train2_pred - Y_train2)\n",
    "\n",
    "        self.weights -= self.learning_rate * dw\n",
    "        self.bias -= self.learning_rate * db\n",
    "    \n",
    "    def predict(self, X_train2):\n",
    "        # Make binary predictions\n",
    "        z = np.dot(X_train2, self.weights) + self.bias\n",
    "        Y_train2_pred = self_logid.sigmoid(z)\n",
    "        return (Y_train2_pred >= 0.5).astype(int)\n",
    "    "
   ]
  },
  {
   "cell_type": "code",
   "execution_count": null,
   "id": "88764665",
   "metadata": {},
   "outputs": [],
   "source": [
    "import numpy as np\n",
    "\n",
    "class LogisticRegression:\n",
    "    def __init__(self, learning_rate=0.01, iterations=1000):\n",
    "        self.learning_rate = learning_rate\n",
    "        self.iterations = iterations\n",
    "        self.weights = None\n",
    "        self.bias = None\n",
    "\n",
    "    def fit(self, X, y):\n",
    "        self.weights = np.zeros(X.shape[1])\n",
    "        self.bias = 0\n",
    "\n",
    "        for _ in range(self.iterations):\n",
    "            self.gradient_descent(X, y)\n",
    "\n",
    "    def sigmoid(self, z):\n",
    "        return 1 / (1 + np.exp(-z))\n",
    "\n",
    "    def cost(self, y, y_pred):\n",
    "        return -np.mean(y * np.log(y_pred) + (1 - y) * np.log(1 - y_pred))\n",
    "\n",
    "    def gradient_descent(self, X, y):\n",
    "        m = X.shape[0]\n",
    "        z = np.dot(X, self.weights) + self.bias\n",
    "        y_pred = self.sigmoid(z)\n",
    "\n",
    "        dw = (1 / m) * np.dot(X.T, (y_pred - y))\n",
    "        db = (1 / m) * np.sum(y_pred - y)\n",
    "\n",
    "        self.weights -= self.learning_rate * dw\n",
    "        self.bias -= self.learning_rate * db\n",
    "\n",
    "    def predict(self, X):\n",
    "        z = np.dot(X, self.weights) + self.bias\n",
    "        y_pred = self.sigmoid(z)\n",
    "        return (y_pred >= 0.5).astype(int)\n"
   ]
  },
  {
   "cell_type": "code",
   "execution_count": null,
   "id": "865011c8",
   "metadata": {},
   "outputs": [],
   "source": []
  },
  {
   "cell_type": "code",
   "execution_count": null,
   "id": "7daf7ab6",
   "metadata": {},
   "outputs": [],
   "source": []
  },
  {
   "cell_type": "code",
   "execution_count": null,
   "id": "980670da",
   "metadata": {},
   "outputs": [],
   "source": []
  },
  {
   "cell_type": "code",
   "execution_count": null,
   "id": "1a3bf34f",
   "metadata": {},
   "outputs": [],
   "source": []
  },
  {
   "cell_type": "code",
   "execution_count": null,
   "id": "4a3cff15",
   "metadata": {},
   "outputs": [],
   "source": []
  }
 ],
 "metadata": {
  "kernelspec": {
   "display_name": "Python 3 (ipykernel)",
   "language": "python",
   "name": "python3"
  },
  "language_info": {
   "codemirror_mode": {
    "name": "ipython",
    "version": 3
   },
   "file_extension": ".py",
   "mimetype": "text/x-python",
   "name": "python",
   "nbconvert_exporter": "python",
   "pygments_lexer": "ipython3",
   "version": "3.11.5"
  }
 },
 "nbformat": 4,
 "nbformat_minor": 5
}
